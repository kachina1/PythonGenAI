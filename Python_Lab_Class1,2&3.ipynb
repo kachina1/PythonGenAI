{
  "nbformat": 4,
  "nbformat_minor": 0,
  "metadata": {
    "colab": {
      "provenance": [],
      "authorship_tag": "ABX9TyO0vUYnt1Mhc725eWgM0dXQ",
      "include_colab_link": true
    },
    "kernelspec": {
      "name": "python3",
      "display_name": "Python 3"
    },
    "language_info": {
      "name": "python"
    }
  },
  "cells": [
    {
      "cell_type": "markdown",
      "metadata": {
        "id": "view-in-github",
        "colab_type": "text"
      },
      "source": [
        "<a href=\"https://colab.research.google.com/github/kachina1/PythonGenAI/blob/main/Python_Lab_Class1%2C2%263.ipynb\" target=\"_parent\"><img src=\"https://colab.research.google.com/assets/colab-badge.svg\" alt=\"Open In Colab\"/></a>"
      ]
    },
    {
      "cell_type": "markdown",
      "source": [
        "**Introduction to Python Programming**\n",
        "\n",
        "\n",
        "\n"
      ],
      "metadata": {
        "id": "toHtn9xIPoIk"
      }
    },
    {
      "cell_type": "code",
      "source": [
        "#print function\n",
        "print(\"Hello Bhaskar\", \"Welcome to Python world\")"
      ],
      "metadata": {
        "colab": {
          "base_uri": "https://localhost:8080/"
        },
        "id": "qmC3og8LP7xG",
        "outputId": "08496a47-2055-473c-e50d-9519e24f1d3e"
      },
      "execution_count": null,
      "outputs": [
        {
          "output_type": "stream",
          "name": "stdout",
          "text": [
            "Hello Bhaskar Welcome to Python world\n"
          ]
        }
      ]
    },
    {
      "cell_type": "code",
      "source": [
        "Name = \"Bhaskar\"\n",
        "Organization = \"IBM\"\n",
        "print(Name,\"is working in \" + Organization)"
      ],
      "metadata": {
        "colab": {
          "base_uri": "https://localhost:8080/"
        },
        "id": "99Xp9TsWQI-Y",
        "outputId": "bfc11bb2-6520-4087-d033-877e50eb17b9"
      },
      "execution_count": null,
      "outputs": [
        {
          "output_type": "stream",
          "name": "stdout",
          "text": [
            "Bhaskar is working in IBM\n"
          ]
        }
      ]
    },
    {
      "cell_type": "markdown",
      "source": [
        "**Variables and Data types**"
      ],
      "metadata": {
        "id": "eb-TMUnyQ-Sq"
      }
    },
    {
      "cell_type": "code",
      "source": [
        "var1=13\n",
        "var2=\"Bhaskar\"\n",
        "var3=18.5\n",
        "print(type(var1),type(var2),type(var3))\n"
      ],
      "metadata": {
        "colab": {
          "base_uri": "https://localhost:8080/"
        },
        "id": "HNALTTmnQuSK",
        "outputId": "1dc144c9-3d25-4470-fc52-1a2fd384beea"
      },
      "execution_count": null,
      "outputs": [
        {
          "output_type": "stream",
          "name": "stdout",
          "text": [
            "<class 'int'> <class 'str'> <class 'float'>\n"
          ]
        }
      ]
    },
    {
      "cell_type": "markdown",
      "source": [
        "**Input() function usage**"
      ],
      "metadata": {
        "id": "sLnI5h4cR6ao"
      }
    },
    {
      "cell_type": "code",
      "source": [
        "name=input(\"Enter your Name = \")\n"
      ],
      "metadata": {
        "colab": {
          "base_uri": "https://localhost:8080/"
        },
        "id": "mWZN2wUQR9zg",
        "outputId": "c07bd9fc-71e8-417b-bf4f-17a170d4f4e2"
      },
      "execution_count": null,
      "outputs": [
        {
          "name": "stdout",
          "output_type": "stream",
          "text": [
            "Enter your Name = Bhaskar Kachina\n"
          ]
        }
      ]
    },
    {
      "cell_type": "code",
      "source": [
        "# simple addition calculator\n",
        "num1 = float(input(\"Enter the first number: \"))\n",
        "num2 = float(input(\"Enter the second number: \"))\n",
        "sum = num1 + num2\n",
        "sub = num1 - num2\n",
        "mul = num1 * num2\n",
        "div = num1 / num2\n",
        "print(\"The sum of the two numbers is:\", sum)\n",
        "print(\"The sub of the two numbers is:\", sub)\n",
        "print(\"The mul of the two numbers is:\", mul)\n",
        "print(\"The div of the two numbers is:\", div)"
      ],
      "metadata": {
        "colab": {
          "base_uri": "https://localhost:8080/"
        },
        "id": "HiQjESM2SN_1",
        "outputId": "88386ba7-7333-4c26-f86a-e002d6aba8a5"
      },
      "execution_count": null,
      "outputs": [
        {
          "output_type": "stream",
          "name": "stdout",
          "text": [
            "Enter the first number: 13\n",
            "Enter the second number: 3\n",
            "The sum of the two numbers is: 16.0\n",
            "The sub of the two numbers is: 10.0\n",
            "The mul of the two numbers is: 39.0\n",
            "The div of the two numbers is: 4.333333333333333\n"
          ]
        }
      ]
    },
    {
      "cell_type": "markdown",
      "source": [
        "**Comparison and Logical Operators in Python**\n"
      ],
      "metadata": {
        "id": "Zqd8A418TR2u"
      }
    },
    {
      "cell_type": "code",
      "source": [
        "a = 13\n",
        "b = 6\n",
        "\n",
        "print(a > b)   # True\n",
        "print(a == b)  # False\n",
        "print(a != b)  # True"
      ],
      "metadata": {
        "colab": {
          "base_uri": "https://localhost:8080/"
        },
        "id": "7GAHyioCTVEp",
        "outputId": "bd1ea4e8-69d0-4385-8a1f-c945fd7c0097"
      },
      "execution_count": null,
      "outputs": [
        {
          "output_type": "stream",
          "name": "stdout",
          "text": [
            "True\n",
            "False\n",
            "True\n"
          ]
        }
      ]
    },
    {
      "cell_type": "markdown",
      "source": [
        "Comparison and Logical **Operators**"
      ],
      "metadata": {
        "id": "DQ0kf67HT0__"
      }
    },
    {
      "cell_type": "code",
      "source": [
        "age = float(input(\"Enter the age: \"))\n",
        "income =float(input(\"Enter the salary: \"))\n",
        "\n",
        "if age >= 18 and income >= 25000:\n",
        "    print(\"Eligible for the loan\")\n",
        "else:\n",
        "    print(\"Not eligible for the loan\")"
      ],
      "metadata": {
        "colab": {
          "base_uri": "https://localhost:8080/"
        },
        "id": "Vm3HY0yzT67s",
        "outputId": "3033beb5-405e-4f3d-e120-6044b3eb1e97"
      },
      "execution_count": null,
      "outputs": [
        {
          "output_type": "stream",
          "name": "stdout",
          "text": [
            "Enter the age: 16\n",
            "Enter the salary: 30000\n",
            "Not eligible for the loan\n"
          ]
        }
      ]
    },
    {
      "cell_type": "code",
      "source": [
        "std_marks=int(input(\"Enter the marks: \"))\n",
        "if std_marks >= 35:\n",
        "  print(\"student is passed\")\n",
        "else:\n",
        "  print(\"student is failed\")"
      ],
      "metadata": {
        "colab": {
          "base_uri": "https://localhost:8080/"
        },
        "id": "YC56xvMmUWgL",
        "outputId": "ebcd004b-1408-4e54-88e9-92f8339cc8a1"
      },
      "execution_count": null,
      "outputs": [
        {
          "output_type": "stream",
          "name": "stdout",
          "text": [
            "Enter the marks: 35\n",
            "student is passed\n"
          ]
        }
      ]
    },
    {
      "cell_type": "markdown",
      "source": [
        "**Loops in Python**"
      ],
      "metadata": {
        "id": "dqhAbwsdVIc7"
      }
    },
    {
      "cell_type": "code",
      "source": [
        "i = 1\n",
        "while i <= 4:\n",
        "    print(\"iteration\", i)\n",
        "    i += 1"
      ],
      "metadata": {
        "colab": {
          "base_uri": "https://localhost:8080/"
        },
        "id": "07t9T3PjU3M8",
        "outputId": "b6deb072-39cb-4916-b20d-1a5af829de5b"
      },
      "execution_count": null,
      "outputs": [
        {
          "output_type": "stream",
          "name": "stdout",
          "text": [
            "iteration 1\n",
            "iteration 2\n",
            "iteration 3\n",
            "iteration 4\n"
          ]
        }
      ]
    },
    {
      "cell_type": "markdown",
      "source": [
        "Assignment 1: Practicing print() Statements\n",
        "Task: Write a Python program that prints the following:\n",
        "\n",
        "Your full name.\n",
        "Your favorite hobby.\n",
        "The number of hours you spend on your hobby each week."
      ],
      "metadata": {
        "id": "-2O8JRMHlufm"
      }
    },
    {
      "cell_type": "code",
      "source": [
        "fname=\"Bhaskar Kachina\"\n",
        "hobby=\"listning music\"\n",
        "hours=1.5\n",
        "print(fname)\n",
        "print(hobby)\n",
        "print(hours)"
      ],
      "metadata": {
        "colab": {
          "base_uri": "https://localhost:8080/"
        },
        "id": "VjJJdeMjrp9E",
        "outputId": "cbf733aa-0b8f-41f8-bcde-94c7103296ef"
      },
      "execution_count": 14,
      "outputs": [
        {
          "output_type": "stream",
          "name": "stdout",
          "text": [
            "Bhaskar Kachina\n",
            "listning music\n",
            "1.5\n"
          ]
        }
      ]
    },
    {
      "cell_type": "code",
      "source": [
        "Fullname=input(\"Enter your full name=\")\n",
        "Hobby=input(\"Enter your favorite hobby=\")\n",
        "Hours=input(\"The number of hours you spend on your hobby each week?\")\n",
        "\n",
        "print(Fullname)\n",
        "print(Hobby)\n",
        "print(Hours)\n"
      ],
      "metadata": {
        "colab": {
          "base_uri": "https://localhost:8080/"
        },
        "id": "pHrlM9fSl0C7",
        "outputId": "0850ee65-ddf0-4cf4-f366-c9de6e421d7a"
      },
      "execution_count": 6,
      "outputs": [
        {
          "output_type": "stream",
          "name": "stdout",
          "text": [
            "Enter your full name=Bhaskar Kachina\n",
            "Enter your favorite hobby=Reading books\n",
            "The number of hours you spend on your hobby each week?2\n",
            "Bhaskar Kachina\n",
            "Reading books\n",
            "2\n"
          ]
        }
      ]
    },
    {
      "cell_type": "markdown",
      "source": [
        "Assignment 2: Working with Variables\n",
        "Task: Create variables to store the following information:\n",
        "\n",
        "Your name.\n",
        "Your age.\n",
        "Your favorite color.\n",
        "Print a sentence that includes all this information.\n",
        "Example Output:\n",
        "\n",
        "My name is John Doe, I am 25 years old, and my favorite color is blue."
      ],
      "metadata": {
        "id": "mVAgETEqoGEq"
      }
    },
    {
      "cell_type": "code",
      "source": [
        "name=\"Bhaskar\"\n",
        "age=36\n",
        "color=\"Blue\"\n",
        "print(\"my name is\",name, \",I am\",age,\"years old,\",\"and my favorite color is\",color,\".\")"
      ],
      "metadata": {
        "colab": {
          "base_uri": "https://localhost:8080/"
        },
        "id": "oisf4dt_rK_i",
        "outputId": "eff2def3-625b-4594-d43f-ed0ecd44d175"
      },
      "execution_count": 13,
      "outputs": [
        {
          "output_type": "stream",
          "name": "stdout",
          "text": [
            "my name is Bhaskar ,I am 36 years old, and my favorite color is Blue .\n"
          ]
        }
      ]
    },
    {
      "cell_type": "code",
      "source": [
        "yourname=input(\"enter your name \")\n",
        "yourage=input(\"enter ur age \")\n",
        "yourfavcolor=input(\"enter your favcolor \")\n",
        "print(\"my name is\",yourname, \",I am\",yourage,\"years old\",\",and my favorite color is\",yourfavcolor,\".\")"
      ],
      "metadata": {
        "colab": {
          "base_uri": "https://localhost:8080/"
        },
        "id": "OXoMEpyZmlLd",
        "outputId": "5524ba29-4c81-421b-a6a9-65c0d8017b3b"
      },
      "execution_count": 10,
      "outputs": [
        {
          "output_type": "stream",
          "name": "stdout",
          "text": [
            "enter your name Bhaskar\n",
            "enter ur age 36\n",
            "enter your favcolor Blue\n",
            "my name is Bhaskar ,I am 36 years old ,and my favorite color is Blue .\n"
          ]
        }
      ]
    },
    {
      "cell_type": "markdown",
      "source": [
        "**Assignment 5: Combining Strings and Numbers**\n",
        "**Task: Write a program that: **\n",
        "\n",
        "Asks the user for their name and their favorite number.\n",
        "Prints a message that says, \"Hello, [name]! Did you know that [favorite number] times 2 is [result]?\"\n",
        "Example Interaction:\n",
        "\n",
        "Enter your name: Alice\n",
        "Enter your favorite number: 7\n",
        "Hello, Alice! Did you know that 7 times 2 is 14?"
      ],
      "metadata": {
        "id": "j3UKgT3CVNKo"
      }
    },
    {
      "cell_type": "code",
      "source": [
        "uname=input(\"Enter name \")\n",
        "fnum=int(input(\"Enter your Fav number \"))\n",
        "\n",
        "fnum_res= fnum * 2\n",
        "\n",
        "print(\"Hello, \"+ str(uname)+\"! Did you know that \", fnum, \" times 2 is \", fnum_res,\"?\",sep='')"
      ],
      "metadata": {
        "colab": {
          "base_uri": "https://localhost:8080/"
        },
        "id": "hmoCrBVarJ8m",
        "outputId": "6dfb6e84-9605-4161-92d3-f7de2dd3b634"
      },
      "execution_count": 34,
      "outputs": [
        {
          "output_type": "stream",
          "name": "stdout",
          "text": [
            "Enter name Bhaskar\n",
            "Enter your Fav number 50000\n",
            "Hello, Bhaskar! Did you know that 50000 times 2 is 100000?\n"
          ]
        }
      ]
    },
    {
      "cell_type": "code",
      "source": [
        "print('Hello', 'World', sep='')"
      ],
      "metadata": {
        "colab": {
          "base_uri": "https://localhost:8080/"
        },
        "id": "qz_javgvdHMR",
        "outputId": "c00a57e7-7409-4947-b720-5f268b4f1aa9"
      },
      "execution_count": 29,
      "outputs": [
        {
          "output_type": "stream",
          "name": "stdout",
          "text": [
            "HelloWorld\n"
          ]
        }
      ]
    },
    {
      "cell_type": "code",
      "source": [
        "print(\"Hello, {} ! Did you know that {} times 2 is {}?\". format(uname,fnum,fnum_res))"
      ],
      "metadata": {
        "colab": {
          "base_uri": "https://localhost:8080/"
        },
        "id": "D3epauYNqF2N",
        "outputId": "54ef24d4-cce8-4b1b-a655-a24a69c5bc82"
      },
      "execution_count": 35,
      "outputs": [
        {
          "output_type": "stream",
          "name": "stdout",
          "text": [
            "Hello, Bhaskar ! Did you know that 50000 times 2 is 100000?\n"
          ]
        }
      ]
    },
    {
      "cell_type": "markdown",
      "source": [
        "**Solution 4: Sum of Even Numbers**"
      ],
      "metadata": {
        "id": "9jAJRQXditxT"
      }
    },
    {
      "cell_type": "code",
      "source": [
        "total = 0\n",
        "\n",
        "for number in range(1, 101):\n",
        "    if number % 2 == 0:\n",
        "        total += number\n",
        "\n",
        "print(\"The sum of even numbers between 1 and 100 is:\", total)"
      ],
      "metadata": {
        "colab": {
          "base_uri": "https://localhost:8080/"
        },
        "id": "nCecWhs0iS77",
        "outputId": "261c32c0-fcfa-43dc-f404-af435d0dbf7d"
      },
      "execution_count": 36,
      "outputs": [
        {
          "output_type": "stream",
          "name": "stdout",
          "text": [
            "The sum of even numbers between 1 and 100 is: 2550\n"
          ]
        }
      ]
    },
    {
      "cell_type": "markdown",
      "source": [
        "**Multiple cation table**"
      ],
      "metadata": {
        "id": "xxvX5Kd5COG-"
      }
    },
    {
      "cell_type": "code",
      "source": [
        "number = int(input(\"Enter a number: \"))\n",
        "\n",
        "print(\"Multiplication table for\", number)\n",
        "for i in range(1, 11):\n",
        "    print(number, \"x\", i, \"=\", number * i)"
      ],
      "metadata": {
        "colab": {
          "base_uri": "https://localhost:8080/"
        },
        "id": "jFHDHnE_jI6E",
        "outputId": "5fde4ac4-7d02-45e8-bb72-fa5110701659"
      },
      "execution_count": 1,
      "outputs": [
        {
          "output_type": "stream",
          "name": "stdout",
          "text": [
            "Enter a number: 2\n",
            "Multiplication table for 2\n",
            "2 x 1 = 2\n",
            "2 x 2 = 4\n",
            "2 x 3 = 6\n",
            "2 x 4 = 8\n",
            "2 x 5 = 10\n",
            "2 x 6 = 12\n",
            "2 x 7 = 14\n",
            "2 x 8 = 16\n",
            "2 x 9 = 18\n",
            "2 x 10 = 20\n"
          ]
        }
      ]
    },
    {
      "cell_type": "code",
      "source": [
        "countdown = int(input(\"Enter a number to start the countdown: \"))\n",
        "\n",
        "while countdown >= 0:\n",
        "    print(countdown)\n",
        "    countdown -= 1\n",
        "\n",
        "print(\"Blast off!\")"
      ],
      "metadata": {
        "colab": {
          "base_uri": "https://localhost:8080/"
        },
        "id": "b7FiW_7pCcPF",
        "outputId": "393b93e8-7044-46ad-9a40-e9fc8f2b069c"
      },
      "execution_count": 3,
      "outputs": [
        {
          "output_type": "stream",
          "name": "stdout",
          "text": [
            "Enter a number to start the countdown: 10\n",
            "10\n",
            "9\n",
            "8\n",
            "7\n",
            "6\n",
            "5\n",
            "4\n",
            "3\n",
            "2\n",
            "1\n",
            "0\n",
            "Blast off!\n"
          ]
        }
      ]
    },
    {
      "cell_type": "code",
      "source": [
        "correct_password = \"python123\"\n",
        "password = input(\"Enter the password: \")\n",
        "\n",
        "while password != correct_password:\n",
        "    print(\"Incorrect password, try again.\")\n",
        "    password = input(\"Enter the password: \")\n",
        "\n",
        "print(\"Access granted\")"
      ],
      "metadata": {
        "colab": {
          "base_uri": "https://localhost:8080/"
        },
        "id": "_ateAsgDDEL4",
        "outputId": "e60f8020-fa1c-4941-cf0e-88eea73afbe5"
      },
      "execution_count": 4,
      "outputs": [
        {
          "output_type": "stream",
          "name": "stdout",
          "text": [
            "Enter the password: welcome123\n",
            "Incorrect password, try again.\n",
            "Enter the password: python123\n",
            "Access granted\n"
          ]
        }
      ]
    },
    {
      "cell_type": "markdown",
      "source": [
        "FizzBuzz"
      ],
      "metadata": {
        "id": "yI8pzvM3D5ld"
      }
    },
    {
      "cell_type": "code",
      "source": [
        "for i in range(1, 51):\n",
        "    if i % 3 == 0 and i % 5 == 0:\n",
        "        print(\"FizzBuzz\")\n",
        "    elif i % 3 == 0:\n",
        "        print(\"Fizz\")\n",
        "    elif i % 5 == 0:\n",
        "        print(\"Buzz\")\n",
        "    else:\n",
        "        print(i)\n",
        ""
      ],
      "metadata": {
        "colab": {
          "base_uri": "https://localhost:8080/"
        },
        "id": "njDzw46VD64z",
        "outputId": "2e9ec566-dd31-4cb8-9227-d6059c9244c7"
      },
      "execution_count": 5,
      "outputs": [
        {
          "output_type": "stream",
          "name": "stdout",
          "text": [
            "1\n",
            "2\n",
            "Fizz\n",
            "4\n",
            "Buzz\n",
            "Fizz\n",
            "7\n",
            "8\n",
            "Fizz\n",
            "Buzz\n",
            "11\n",
            "Fizz\n",
            "13\n",
            "14\n",
            "FizzBuzz\n",
            "16\n",
            "17\n",
            "Fizz\n",
            "19\n",
            "Buzz\n",
            "Fizz\n",
            "22\n",
            "23\n",
            "Fizz\n",
            "Buzz\n",
            "26\n",
            "Fizz\n",
            "28\n",
            "29\n",
            "FizzBuzz\n",
            "31\n",
            "32\n",
            "Fizz\n",
            "34\n",
            "Buzz\n",
            "Fizz\n",
            "37\n",
            "38\n",
            "Fizz\n",
            "Buzz\n",
            "41\n",
            "Fizz\n",
            "43\n",
            "44\n",
            "FizzBuzz\n",
            "46\n",
            "47\n",
            "Fizz\n",
            "49\n",
            "Buzz\n"
          ]
        }
      ]
    },
    {
      "cell_type": "code",
      "source": [],
      "metadata": {
        "id": "CSqhvOPFD7y8"
      },
      "execution_count": null,
      "outputs": []
    }
  ]
}