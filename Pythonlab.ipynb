{
  "nbformat": 4,
  "nbformat_minor": 0,
  "metadata": {
    "colab": {
      "provenance": [],
      "authorship_tag": "ABX9TyMT6ipOwUqg1F2y8dExepMH",
      "include_colab_link": true
    },
    "kernelspec": {
      "name": "python3",
      "display_name": "Python 3"
    },
    "language_info": {
      "name": "python"
    }
  },
  "cells": [
    {
      "cell_type": "markdown",
      "metadata": {
        "id": "view-in-github",
        "colab_type": "text"
      },
      "source": [
        "<a href=\"https://colab.research.google.com/github/kachina1/PythonGenAI/blob/main/Pythonlab.ipynb\" target=\"_parent\"><img src=\"https://colab.research.google.com/assets/colab-badge.svg\" alt=\"Open In Colab\"/></a>"
      ]
    },
    {
      "cell_type": "code",
      "execution_count": null,
      "metadata": {
        "colab": {
          "base_uri": "https://localhost:8080/"
        },
        "id": "9v-W6V_BIptv",
        "outputId": "eb945043-e8d3-4a0c-82fe-22402b200327"
      },
      "outputs": [
        {
          "output_type": "stream",
          "name": "stdout",
          "text": [
            "This is for my python scripts practice purpose\n"
          ]
        }
      ],
      "source": [
        "print(\"This is for my python scripts practice purpose\")"
      ]
    },
    {
      "cell_type": "markdown",
      "source": [
        "Example Python programs\n"
      ],
      "metadata": {
        "id": "OZ6lxChGJBN7"
      }
    },
    {
      "cell_type": "code",
      "source": [
        "cmny = input(\"enter company=\")\n",
        "cmny1=cmny.upper()\n",
        "if cmny1 == 'TIAA':\n",
        "  print(\"you are in the cmny of \",cmny1)\n",
        "\n",
        "\n"
      ],
      "metadata": {
        "colab": {
          "base_uri": "https://localhost:8080/"
        },
        "id": "1iz6SIT5JaWG",
        "outputId": "6af1246d-0596-410d-9af6-67c9f6e73344"
      },
      "execution_count": null,
      "outputs": [
        {
          "output_type": "stream",
          "name": "stdout",
          "text": [
            "enter company=Tiaa\n",
            "you are in the cmny of  TIAA\n"
          ]
        }
      ]
    },
    {
      "cell_type": "code",
      "source": [
        "fruits = [\"apple\", \"banana\", \"cherry\"]\n",
        "for fruit in fruits:\n",
        "    print(fruit)\n"
      ],
      "metadata": {
        "colab": {
          "base_uri": "https://localhost:8080/"
        },
        "id": "BGmB-WIkNkAJ",
        "outputId": "514b6d10-4883-4a42-a97a-760321a4940f"
      },
      "execution_count": null,
      "outputs": [
        {
          "output_type": "stream",
          "name": "stdout",
          "text": [
            "apple\n",
            "banana\n",
            "cherry\n"
          ]
        }
      ]
    }
  ]
}