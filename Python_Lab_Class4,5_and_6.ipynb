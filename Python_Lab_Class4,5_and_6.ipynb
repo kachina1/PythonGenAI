{
  "nbformat": 4,
  "nbformat_minor": 0,
  "metadata": {
    "colab": {
      "provenance": [],
      "toc_visible": true,
      "authorship_tag": "ABX9TyNwO1lQ6ng2Rl7sluXa1kdQ",
      "include_colab_link": true
    },
    "kernelspec": {
      "name": "python3",
      "display_name": "Python 3"
    },
    "language_info": {
      "name": "python"
    }
  },
  "cells": [
    {
      "cell_type": "markdown",
      "metadata": {
        "id": "view-in-github",
        "colab_type": "text"
      },
      "source": [
        "<a href=\"https://colab.research.google.com/github/kachina1/PythonGenAI/blob/main/Python_Lab_Class4%2C5_and_6.ipynb\" target=\"_parent\"><img src=\"https://colab.research.google.com/assets/colab-badge.svg\" alt=\"Open In Colab\"/></a>"
      ]
    },
    {
      "cell_type": "code",
      "execution_count": null,
      "metadata": {
        "id": "YoTNwA4TE8nR"
      },
      "outputs": [],
      "source": []
    },
    {
      "cell_type": "markdown",
      "source": [
        "# Lists\n",
        "**They hold multiple data items**\n",
        "   **They are ordered**\n",
        "   **Lists are mutable**\n"
      ],
      "metadata": {
        "id": "d9Vta8mPFOeJ"
      }
    },
    {
      "cell_type": "code",
      "source": [
        "numbers=[1,5,3,10]\n",
        "print(type(numbers))\n",
        "print(numbers)\n"
      ],
      "metadata": {
        "colab": {
          "base_uri": "https://localhost:8080/"
        },
        "id": "8DRP1yWKGE6z",
        "outputId": "8c482961-da74-4534-994b-aee9cbf0dd67"
      },
      "execution_count": 5,
      "outputs": [
        {
          "output_type": "stream",
          "name": "stdout",
          "text": [
            "<class 'list'>\n",
            "[1, 5, 3, 10]\n"
          ]
        }
      ]
    },
    {
      "cell_type": "code",
      "source": [
        "Items=[\"Apple\",150,\"Salary\",20000,\"Weather\",22.8]\n",
        "print(Items[-2])\n",
        "#len(Items)\n",
        "print(\"Total length of Items = \",len(Items))"
      ],
      "metadata": {
        "colab": {
          "base_uri": "https://localhost:8080/"
        },
        "id": "bXOgR4bAG0n5",
        "outputId": "b7926167-ccda-4284-a05f-688772471148"
      },
      "execution_count": 17,
      "outputs": [
        {
          "output_type": "stream",
          "name": "stdout",
          "text": [
            "Weather\n",
            "Total length of Items =  6\n"
          ]
        }
      ]
    },
    {
      "cell_type": "code",
      "source": [
        "fruits = [\"apple\", \"banana\", \"cherry\"]\n",
        "print(fruits)\n"
      ],
      "metadata": {
        "colab": {
          "base_uri": "https://localhost:8080/"
        },
        "id": "Tg77TSOTI_14",
        "outputId": "75091753-c4b2-4097-81ee-101778515396"
      },
      "execution_count": 18,
      "outputs": [
        {
          "output_type": "stream",
          "name": "stdout",
          "text": [
            "['apple', 'banana', 'cherry']\n"
          ]
        }
      ]
    },
    {
      "cell_type": "code",
      "source": [
        "fruits.append(\"Orange\")\n",
        "print(fruits)"
      ],
      "metadata": {
        "colab": {
          "base_uri": "https://localhost:8080/"
        },
        "id": "r1CZFPKQKbD9",
        "outputId": "41cea466-1ad4-4140-814e-611c5942203e"
      },
      "execution_count": 21,
      "outputs": [
        {
          "output_type": "stream",
          "name": "stdout",
          "text": [
            "['apple', 'banana', 'cherry', 'Orange', 'Orange']\n"
          ]
        }
      ]
    },
    {
      "cell_type": "code",
      "source": [
        "Items.remove(22.8)\n"
      ],
      "metadata": {
        "id": "XPzo0mbPLNJA"
      },
      "execution_count": 22,
      "outputs": []
    },
    {
      "cell_type": "code",
      "source": [
        "print(Items)"
      ],
      "metadata": {
        "colab": {
          "base_uri": "https://localhost:8080/"
        },
        "id": "mrp1wqxJLRef",
        "outputId": "35e694d0-6c55-436f-fe3d-c960b93e847a"
      },
      "execution_count": 23,
      "outputs": [
        {
          "output_type": "stream",
          "name": "stdout",
          "text": [
            "['Apple', 150, 'Salary', 20000, 'Weather']\n"
          ]
        }
      ]
    },
    {
      "cell_type": "code",
      "source": [
        "Items[0]=\"biscuit\""
      ],
      "metadata": {
        "id": "Mqwx6ZfPLWUF"
      },
      "execution_count": 24,
      "outputs": []
    },
    {
      "cell_type": "code",
      "source": [
        "print(Items)"
      ],
      "metadata": {
        "colab": {
          "base_uri": "https://localhost:8080/"
        },
        "id": "6qkIeZMhLmHe",
        "outputId": "84f64e43-c291-45b7-e16f-40d0bf027ccf"
      },
      "execution_count": 25,
      "outputs": [
        {
          "output_type": "stream",
          "name": "stdout",
          "text": [
            "['biscuit', 150, 'Salary', 20000, 'Weather']\n"
          ]
        }
      ]
    },
    {
      "cell_type": "code",
      "source": [
        "fruits.insert(1,\"avakaya\")"
      ],
      "metadata": {
        "id": "E96Mc32cLnqj"
      },
      "execution_count": 30,
      "outputs": []
    },
    {
      "cell_type": "code",
      "source": [
        "print(fruits)"
      ],
      "metadata": {
        "colab": {
          "base_uri": "https://localhost:8080/"
        },
        "id": "M8Z4Yz6DL1hw",
        "outputId": "c1674830-baa5-41ae-b3ee-896db10d17b3"
      },
      "execution_count": 31,
      "outputs": [
        {
          "output_type": "stream",
          "name": "stdout",
          "text": [
            "['apple', 'avakaya', 'banana', 'cherry', 'Orange', 'Orange']\n"
          ]
        }
      ]
    },
    {
      "cell_type": "code",
      "source": [
        "fruits.sort()"
      ],
      "metadata": {
        "id": "2QzXCKzIMqFL"
      },
      "execution_count": 32,
      "outputs": []
    },
    {
      "cell_type": "code",
      "source": [
        "print(fruits)"
      ],
      "metadata": {
        "colab": {
          "base_uri": "https://localhost:8080/"
        },
        "id": "pKeSBPaNWy9b",
        "outputId": "909ba372-b028-454b-9c76-8c5b7ffd51e8"
      },
      "execution_count": 33,
      "outputs": [
        {
          "output_type": "stream",
          "name": "stdout",
          "text": [
            "['Orange', 'Orange', 'apple', 'avakaya', 'banana', 'cherry']\n"
          ]
        }
      ]
    },
    {
      "cell_type": "code",
      "source": [
        "list1=[3,7,12,6,1]\n",
        "list1.sort()"
      ],
      "metadata": {
        "id": "Ade-fxdEW1Sx"
      },
      "execution_count": 34,
      "outputs": []
    },
    {
      "cell_type": "code",
      "source": [
        "print(list1)\n"
      ],
      "metadata": {
        "colab": {
          "base_uri": "https://localhost:8080/"
        },
        "id": "74uYVXypXGZ-",
        "outputId": "2cdd865e-22fe-44e7-9daa-3a5671f2be9d"
      },
      "execution_count": 35,
      "outputs": [
        {
          "output_type": "stream",
          "name": "stdout",
          "text": [
            "[1, 3, 6, 7, 12]\n"
          ]
        }
      ]
    },
    {
      "cell_type": "code",
      "source": [
        "fruits.remove(\"Orange\")"
      ],
      "metadata": {
        "id": "Je95-X2KXIyr"
      },
      "execution_count": 37,
      "outputs": []
    },
    {
      "cell_type": "code",
      "source": [
        "print(fruits)"
      ],
      "metadata": {
        "colab": {
          "base_uri": "https://localhost:8080/"
        },
        "id": "oCk7-HCLXP5j",
        "outputId": "96004199-610b-4aaa-a2f8-6826ebade9b1"
      },
      "execution_count": 38,
      "outputs": [
        {
          "output_type": "stream",
          "name": "stdout",
          "text": [
            "['Orange', 'apple', 'avakaya', 'banana', 'cherry']\n"
          ]
        }
      ]
    },
    {
      "cell_type": "code",
      "source": [
        "fruits.sort()\n",
        "print(fruits)"
      ],
      "metadata": {
        "colab": {
          "base_uri": "https://localhost:8080/"
        },
        "id": "ezlqsVOtXfkq",
        "outputId": "b1a76630-6ae6-423c-ec68-3bc01c6de58a"
      },
      "execution_count": 39,
      "outputs": [
        {
          "output_type": "stream",
          "name": "stdout",
          "text": [
            "['Orange', 'apple', 'avakaya', 'banana', 'cherry']\n"
          ]
        }
      ]
    },
    {
      "cell_type": "code",
      "source": [
        "fruits_copy=fruits.copy()"
      ],
      "metadata": {
        "id": "kA2B01QvXkLU"
      },
      "execution_count": 40,
      "outputs": []
    },
    {
      "cell_type": "code",
      "source": [
        "print(fruits_copy)"
      ],
      "metadata": {
        "colab": {
          "base_uri": "https://localhost:8080/"
        },
        "id": "Md5QjM8GYFLr",
        "outputId": "06f09629-080a-4cff-8246-8e6a7b649de8"
      },
      "execution_count": 41,
      "outputs": [
        {
          "output_type": "stream",
          "name": "stdout",
          "text": [
            "['Orange', 'apple', 'avakaya', 'banana', 'cherry']\n"
          ]
        }
      ]
    },
    {
      "cell_type": "markdown",
      "source": [
        "**Loops - Loops iterates over a sequence **"
      ],
      "metadata": {
        "id": "f9eGlHQnYdWB"
      }
    },
    {
      "cell_type": "code",
      "source": [
        "for frut in fruits:\n",
        "    print(frut)"
      ],
      "metadata": {
        "colab": {
          "base_uri": "https://localhost:8080/"
        },
        "id": "-VODvJf9YHDH",
        "outputId": "4d91af68-e3a6-4783-f9ba-cf19dcb45cb3"
      },
      "execution_count": 42,
      "outputs": [
        {
          "output_type": "stream",
          "name": "stdout",
          "text": [
            "Orange\n",
            "apple\n",
            "avakaya\n",
            "banana\n",
            "cherry\n"
          ]
        }
      ]
    },
    {
      "cell_type": "code",
      "source": [
        "for i in range(1, 6):\n",
        "    print(\"Iteration\", i)\n",
        ""
      ],
      "metadata": {
        "colab": {
          "base_uri": "https://localhost:8080/"
        },
        "id": "ffVaLK9SYtvv",
        "outputId": "4b8fba69-4450-49c1-f373-eba922d3a231"
      },
      "execution_count": 43,
      "outputs": [
        {
          "output_type": "stream",
          "name": "stdout",
          "text": [
            "Iteration 1\n",
            "Iteration 2\n",
            "Iteration 3\n",
            "Iteration 4\n",
            "Iteration 5\n"
          ]
        }
      ]
    },
    {
      "cell_type": "code",
      "source": [
        "i = 1\n",
        "\n",
        "while i >= 0:\n",
        "  i = i + 1\n",
        "  print(i)\n",
        "  if i == 10:\n",
        "    break"
      ],
      "metadata": {
        "colab": {
          "base_uri": "https://localhost:8080/"
        },
        "id": "SicgP5zbZf-9",
        "outputId": "42a3479b-69ab-4db9-bb0c-dbb5de5c9b63"
      },
      "execution_count": 44,
      "outputs": [
        {
          "output_type": "stream",
          "name": "stdout",
          "text": [
            "2\n",
            "3\n",
            "4\n",
            "5\n",
            "6\n",
            "7\n",
            "8\n",
            "9\n",
            "10\n"
          ]
        }
      ]
    },
    {
      "cell_type": "markdown",
      "source": [
        "# **Set Methods in Python**"
      ],
      "metadata": {
        "id": "sKABINEbaJ1W"
      }
    },
    {
      "cell_type": "code",
      "source": [
        "fruits = {\"apple\", \"banana\", \"orange\", \"banana\"}\n",
        "#fruits.add(\"orange\")\n",
        "print(fruits)"
      ],
      "metadata": {
        "colab": {
          "base_uri": "https://localhost:8080/"
        },
        "id": "UGVyMacLZ7CN",
        "outputId": "f4a6bcd5-bcc4-45d6-90c5-d8464b5f2b9b"
      },
      "execution_count": 47,
      "outputs": [
        {
          "output_type": "stream",
          "name": "stdout",
          "text": [
            "{'orange', 'banana', 'apple'}\n"
          ]
        }
      ]
    },
    {
      "cell_type": "markdown",
      "source": [
        "# **Introduction to Dictionaries in Python**\n",
        "collection of key-value pairs. Each key is unique, and it maps to a specific value. Dictionaries are unordered, changeable, and indexed by keys.\n",
        "\n",
        "**Syntax:**\n",
        "\n",
        "```python\n",
        "dictionary_name = {\n",
        "    \"key1\": \"value1\",\n",
        "    \"key2\": \"value2\",\n",
        "    \"key3\": \"value3\"\n",
        "}\n",
        "```"
      ],
      "metadata": {
        "id": "kWKzC4eqcipk"
      }
    },
    {
      "cell_type": "code",
      "source": [
        "# Example of a dictionary with strings as keys and values\n",
        "person = {\n",
        "    \"name\": \"Bhaskar\",\n",
        "    \"age\": 36,\n",
        "    \"city\": \"Pune\",\n",
        "    \"Pin\": 123456\n",
        "}\n",
        "\n",
        "print(person)"
      ],
      "metadata": {
        "colab": {
          "base_uri": "https://localhost:8080/"
        },
        "id": "vbLYtL5Paj7B",
        "outputId": "20c4b981-6de7-48f8-c189-9addb0700f58"
      },
      "execution_count": 49,
      "outputs": [
        {
          "output_type": "stream",
          "name": "stdout",
          "text": [
            "{'name': 'Bhaskar', 'age': 36, 'city': 'Pune', 'Pin': 123456}\n"
          ]
        }
      ]
    },
    {
      "cell_type": "code",
      "source": [
        "val1=person[\"age\"]"
      ],
      "metadata": {
        "id": "5n7SPtwdeJWi"
      },
      "execution_count": 51,
      "outputs": []
    },
    {
      "cell_type": "code",
      "source": [
        "print(val1)"
      ],
      "metadata": {
        "colab": {
          "base_uri": "https://localhost:8080/"
        },
        "id": "3XQqHwVfefHT",
        "outputId": "f294d188-0517-4d4c-86a2-2428c999b307"
      },
      "execution_count": 52,
      "outputs": [
        {
          "output_type": "stream",
          "name": "stdout",
          "text": [
            "36\n"
          ]
        }
      ]
    },
    {
      "cell_type": "code",
      "source": [
        "person[\"age\"]=37\n",
        "print(person[\"age\"])\n",
        "age1=person[\"age\"]\n",
        "print(\"after 1 year from 2024 is\",age1)"
      ],
      "metadata": {
        "colab": {
          "base_uri": "https://localhost:8080/"
        },
        "id": "E6EtcFCaejnL",
        "outputId": "c22a56bc-6b08-4492-a77e-3df75281c2bf"
      },
      "execution_count": 59,
      "outputs": [
        {
          "output_type": "stream",
          "name": "stdout",
          "text": [
            "37\n",
            "after 1 year from 2024 is 37\n"
          ]
        }
      ]
    },
    {
      "cell_type": "code",
      "source": [],
      "metadata": {
        "id": "MC7Kd568e2Z1"
      },
      "execution_count": null,
      "outputs": []
    }
  ]
}