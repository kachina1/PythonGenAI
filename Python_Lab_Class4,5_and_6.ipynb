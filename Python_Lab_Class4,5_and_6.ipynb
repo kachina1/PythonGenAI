{
  "nbformat": 4,
  "nbformat_minor": 0,
  "metadata": {
    "colab": {
      "provenance": [],
      "toc_visible": true,
      "authorship_tag": "ABX9TyPUYB4aFmnnAefpZVN9UBdx",
      "include_colab_link": true
    },
    "kernelspec": {
      "name": "python3",
      "display_name": "Python 3"
    },
    "language_info": {
      "name": "python"
    }
  },
  "cells": [
    {
      "cell_type": "markdown",
      "metadata": {
        "id": "view-in-github",
        "colab_type": "text"
      },
      "source": [
        "<a href=\"https://colab.research.google.com/github/kachina1/PythonGenAI/blob/main/Python_Lab_Class4%2C5_and_6.ipynb\" target=\"_parent\"><img src=\"https://colab.research.google.com/assets/colab-badge.svg\" alt=\"Open In Colab\"/></a>"
      ]
    },
    {
      "cell_type": "code",
      "execution_count": null,
      "metadata": {
        "id": "YoTNwA4TE8nR"
      },
      "outputs": [],
      "source": []
    },
    {
      "cell_type": "markdown",
      "source": [
        "# Lists\n",
        "**They hold multiple data items**\n",
        "   **They are ordered**\n",
        "   **Lists are mutable**\n"
      ],
      "metadata": {
        "id": "d9Vta8mPFOeJ"
      }
    },
    {
      "cell_type": "code",
      "source": [
        "numbers=[1,5,3,10]\n",
        "print(type(numbers))\n",
        "print(numbers)\n"
      ],
      "metadata": {
        "colab": {
          "base_uri": "https://localhost:8080/"
        },
        "id": "8DRP1yWKGE6z",
        "outputId": "8c482961-da74-4534-994b-aee9cbf0dd67"
      },
      "execution_count": null,
      "outputs": [
        {
          "output_type": "stream",
          "name": "stdout",
          "text": [
            "<class 'list'>\n",
            "[1, 5, 3, 10]\n"
          ]
        }
      ]
    },
    {
      "cell_type": "code",
      "source": [
        "Items=[\"Apple\",150,\"Salary\",20000,\"Weather\",22.8]\n",
        "print(Items[-2])\n",
        "#len(Items)\n",
        "print(\"Total length of Items = \",len(Items))"
      ],
      "metadata": {
        "colab": {
          "base_uri": "https://localhost:8080/"
        },
        "id": "bXOgR4bAG0n5",
        "outputId": "b7926167-ccda-4284-a05f-688772471148"
      },
      "execution_count": null,
      "outputs": [
        {
          "output_type": "stream",
          "name": "stdout",
          "text": [
            "Weather\n",
            "Total length of Items =  6\n"
          ]
        }
      ]
    },
    {
      "cell_type": "code",
      "source": [
        "fruits = [\"apple\", \"banana\", \"cherry\"]\n",
        "print(fruits)\n"
      ],
      "metadata": {
        "colab": {
          "base_uri": "https://localhost:8080/"
        },
        "id": "Tg77TSOTI_14",
        "outputId": "75091753-c4b2-4097-81ee-101778515396"
      },
      "execution_count": null,
      "outputs": [
        {
          "output_type": "stream",
          "name": "stdout",
          "text": [
            "['apple', 'banana', 'cherry']\n"
          ]
        }
      ]
    },
    {
      "cell_type": "code",
      "source": [
        "fruits.append(\"Orange\")\n",
        "print(fruits)"
      ],
      "metadata": {
        "colab": {
          "base_uri": "https://localhost:8080/"
        },
        "id": "r1CZFPKQKbD9",
        "outputId": "41cea466-1ad4-4140-814e-611c5942203e"
      },
      "execution_count": null,
      "outputs": [
        {
          "output_type": "stream",
          "name": "stdout",
          "text": [
            "['apple', 'banana', 'cherry', 'Orange', 'Orange']\n"
          ]
        }
      ]
    },
    {
      "cell_type": "code",
      "source": [
        "Items.remove(22.8)\n"
      ],
      "metadata": {
        "id": "XPzo0mbPLNJA"
      },
      "execution_count": null,
      "outputs": []
    },
    {
      "cell_type": "code",
      "source": [
        "print(Items)"
      ],
      "metadata": {
        "colab": {
          "base_uri": "https://localhost:8080/"
        },
        "id": "mrp1wqxJLRef",
        "outputId": "35e694d0-6c55-436f-fe3d-c960b93e847a"
      },
      "execution_count": null,
      "outputs": [
        {
          "output_type": "stream",
          "name": "stdout",
          "text": [
            "['Apple', 150, 'Salary', 20000, 'Weather']\n"
          ]
        }
      ]
    },
    {
      "cell_type": "code",
      "source": [
        "Items[0]=\"biscuit\""
      ],
      "metadata": {
        "id": "Mqwx6ZfPLWUF"
      },
      "execution_count": null,
      "outputs": []
    },
    {
      "cell_type": "code",
      "source": [
        "print(Items)"
      ],
      "metadata": {
        "colab": {
          "base_uri": "https://localhost:8080/"
        },
        "id": "6qkIeZMhLmHe",
        "outputId": "84f64e43-c291-45b7-e16f-40d0bf027ccf"
      },
      "execution_count": null,
      "outputs": [
        {
          "output_type": "stream",
          "name": "stdout",
          "text": [
            "['biscuit', 150, 'Salary', 20000, 'Weather']\n"
          ]
        }
      ]
    },
    {
      "cell_type": "code",
      "source": [
        "fruits.insert(1,\"avakaya\")"
      ],
      "metadata": {
        "id": "E96Mc32cLnqj"
      },
      "execution_count": null,
      "outputs": []
    },
    {
      "cell_type": "code",
      "source": [
        "print(fruits)"
      ],
      "metadata": {
        "colab": {
          "base_uri": "https://localhost:8080/"
        },
        "id": "M8Z4Yz6DL1hw",
        "outputId": "c1674830-baa5-41ae-b3ee-896db10d17b3"
      },
      "execution_count": null,
      "outputs": [
        {
          "output_type": "stream",
          "name": "stdout",
          "text": [
            "['apple', 'avakaya', 'banana', 'cherry', 'Orange', 'Orange']\n"
          ]
        }
      ]
    },
    {
      "cell_type": "code",
      "source": [
        "fruits.sort()"
      ],
      "metadata": {
        "id": "2QzXCKzIMqFL"
      },
      "execution_count": null,
      "outputs": []
    },
    {
      "cell_type": "code",
      "source": [
        "print(fruits)"
      ],
      "metadata": {
        "colab": {
          "base_uri": "https://localhost:8080/"
        },
        "id": "pKeSBPaNWy9b",
        "outputId": "909ba372-b028-454b-9c76-8c5b7ffd51e8"
      },
      "execution_count": null,
      "outputs": [
        {
          "output_type": "stream",
          "name": "stdout",
          "text": [
            "['Orange', 'Orange', 'apple', 'avakaya', 'banana', 'cherry']\n"
          ]
        }
      ]
    },
    {
      "cell_type": "code",
      "source": [
        "list1=[3,7,12,6,1]\n",
        "list1.sort()"
      ],
      "metadata": {
        "id": "Ade-fxdEW1Sx"
      },
      "execution_count": null,
      "outputs": []
    },
    {
      "cell_type": "code",
      "source": [
        "print(list1)\n"
      ],
      "metadata": {
        "colab": {
          "base_uri": "https://localhost:8080/"
        },
        "id": "74uYVXypXGZ-",
        "outputId": "2cdd865e-22fe-44e7-9daa-3a5671f2be9d"
      },
      "execution_count": null,
      "outputs": [
        {
          "output_type": "stream",
          "name": "stdout",
          "text": [
            "[1, 3, 6, 7, 12]\n"
          ]
        }
      ]
    },
    {
      "cell_type": "code",
      "source": [
        "fruits.remove(\"Orange\")"
      ],
      "metadata": {
        "id": "Je95-X2KXIyr"
      },
      "execution_count": null,
      "outputs": []
    },
    {
      "cell_type": "code",
      "source": [
        "print(fruits)"
      ],
      "metadata": {
        "colab": {
          "base_uri": "https://localhost:8080/"
        },
        "id": "oCk7-HCLXP5j",
        "outputId": "96004199-610b-4aaa-a2f8-6826ebade9b1"
      },
      "execution_count": null,
      "outputs": [
        {
          "output_type": "stream",
          "name": "stdout",
          "text": [
            "['Orange', 'apple', 'avakaya', 'banana', 'cherry']\n"
          ]
        }
      ]
    },
    {
      "cell_type": "code",
      "source": [
        "fruits.sort()\n",
        "print(fruits)"
      ],
      "metadata": {
        "colab": {
          "base_uri": "https://localhost:8080/"
        },
        "id": "ezlqsVOtXfkq",
        "outputId": "b1a76630-6ae6-423c-ec68-3bc01c6de58a"
      },
      "execution_count": null,
      "outputs": [
        {
          "output_type": "stream",
          "name": "stdout",
          "text": [
            "['Orange', 'apple', 'avakaya', 'banana', 'cherry']\n"
          ]
        }
      ]
    },
    {
      "cell_type": "code",
      "source": [
        "fruits_copy=fruits.copy()"
      ],
      "metadata": {
        "id": "kA2B01QvXkLU"
      },
      "execution_count": null,
      "outputs": []
    },
    {
      "cell_type": "code",
      "source": [
        "print(fruits_copy)"
      ],
      "metadata": {
        "colab": {
          "base_uri": "https://localhost:8080/"
        },
        "id": "Md5QjM8GYFLr",
        "outputId": "06f09629-080a-4cff-8246-8e6a7b649de8"
      },
      "execution_count": null,
      "outputs": [
        {
          "output_type": "stream",
          "name": "stdout",
          "text": [
            "['Orange', 'apple', 'avakaya', 'banana', 'cherry']\n"
          ]
        }
      ]
    },
    {
      "cell_type": "markdown",
      "source": [
        "**Loops - Loops iterates over a sequence **"
      ],
      "metadata": {
        "id": "f9eGlHQnYdWB"
      }
    },
    {
      "cell_type": "code",
      "source": [
        "for frut in fruits:\n",
        "    print(frut)"
      ],
      "metadata": {
        "colab": {
          "base_uri": "https://localhost:8080/"
        },
        "id": "-VODvJf9YHDH",
        "outputId": "4d91af68-e3a6-4783-f9ba-cf19dcb45cb3"
      },
      "execution_count": null,
      "outputs": [
        {
          "output_type": "stream",
          "name": "stdout",
          "text": [
            "Orange\n",
            "apple\n",
            "avakaya\n",
            "banana\n",
            "cherry\n"
          ]
        }
      ]
    },
    {
      "cell_type": "code",
      "source": [
        "for i in range(1, 6):\n",
        "    print(\"Iteration\", i)\n"
      ],
      "metadata": {
        "colab": {
          "base_uri": "https://localhost:8080/"
        },
        "id": "ffVaLK9SYtvv",
        "outputId": "4b8fba69-4450-49c1-f373-eba922d3a231"
      },
      "execution_count": null,
      "outputs": [
        {
          "output_type": "stream",
          "name": "stdout",
          "text": [
            "Iteration 1\n",
            "Iteration 2\n",
            "Iteration 3\n",
            "Iteration 4\n",
            "Iteration 5\n"
          ]
        }
      ]
    },
    {
      "cell_type": "code",
      "source": [
        "i = 1\n",
        "\n",
        "while i >= 0:\n",
        "  i = i + 1\n",
        "  print(i)\n",
        "  if i == 10:\n",
        "    break"
      ],
      "metadata": {
        "colab": {
          "base_uri": "https://localhost:8080/"
        },
        "id": "SicgP5zbZf-9",
        "outputId": "42a3479b-69ab-4db9-bb0c-dbb5de5c9b63"
      },
      "execution_count": null,
      "outputs": [
        {
          "output_type": "stream",
          "name": "stdout",
          "text": [
            "2\n",
            "3\n",
            "4\n",
            "5\n",
            "6\n",
            "7\n",
            "8\n",
            "9\n",
            "10\n"
          ]
        }
      ]
    },
    {
      "cell_type": "markdown",
      "source": [
        "# **Set Methods in Python**"
      ],
      "metadata": {
        "id": "sKABINEbaJ1W"
      }
    },
    {
      "cell_type": "code",
      "source": [
        "fruits = {\"apple\", \"banana\", \"orange\", \"banana\"}\n",
        "#fruits.add(\"orange\")\n",
        "print(fruits)"
      ],
      "metadata": {
        "colab": {
          "base_uri": "https://localhost:8080/"
        },
        "id": "UGVyMacLZ7CN",
        "outputId": "f4a6bcd5-bcc4-45d6-90c5-d8464b5f2b9b"
      },
      "execution_count": null,
      "outputs": [
        {
          "output_type": "stream",
          "name": "stdout",
          "text": [
            "{'orange', 'banana', 'apple'}\n"
          ]
        }
      ]
    },
    {
      "cell_type": "markdown",
      "source": [
        "# **Introduction to Dictionaries in Python**\n",
        "collection of key-value pairs. Each key is unique, and it maps to a specific value. Dictionaries are unordered, changeable, and indexed by keys.\n",
        "\n",
        "**Syntax:**\n",
        "\n",
        "```python\n",
        "dictionary_name = {\n",
        "    \"key1\": \"value1\",\n",
        "    \"key2\": \"value2\",\n",
        "    \"key3\": \"value3\"\n",
        "}\n",
        "```"
      ],
      "metadata": {
        "id": "kWKzC4eqcipk"
      }
    },
    {
      "cell_type": "code",
      "source": [
        "# Example of a dictionary with strings as keys and values\n",
        "person = {\n",
        "    \"name\": \"Bhaskar\",\n",
        "    \"age\": 36,\n",
        "    \"city\": \"Pune\",\n",
        "    \"Pin\": 123456\n",
        "}\n",
        "\n",
        "print(person)"
      ],
      "metadata": {
        "colab": {
          "base_uri": "https://localhost:8080/"
        },
        "id": "vbLYtL5Paj7B",
        "outputId": "20c4b981-6de7-48f8-c189-9addb0700f58"
      },
      "execution_count": null,
      "outputs": [
        {
          "output_type": "stream",
          "name": "stdout",
          "text": [
            "{'name': 'Bhaskar', 'age': 36, 'city': 'Pune', 'Pin': 123456}\n"
          ]
        }
      ]
    },
    {
      "cell_type": "code",
      "source": [
        "val1=person[\"age\"]"
      ],
      "metadata": {
        "id": "5n7SPtwdeJWi"
      },
      "execution_count": null,
      "outputs": []
    },
    {
      "cell_type": "code",
      "source": [
        "print(val1)"
      ],
      "metadata": {
        "colab": {
          "base_uri": "https://localhost:8080/"
        },
        "id": "3XQqHwVfefHT",
        "outputId": "f294d188-0517-4d4c-86a2-2428c999b307"
      },
      "execution_count": null,
      "outputs": [
        {
          "output_type": "stream",
          "name": "stdout",
          "text": [
            "36\n"
          ]
        }
      ]
    },
    {
      "cell_type": "code",
      "source": [
        "person[\"age\"]=37\n",
        "print(person[\"age\"])\n",
        "age1=person[\"age\"]\n",
        "print(\"after 1 year from 2024 is\",age1)"
      ],
      "metadata": {
        "colab": {
          "base_uri": "https://localhost:8080/"
        },
        "id": "E6EtcFCaejnL",
        "outputId": "c22a56bc-6b08-4492-a77e-3df75281c2bf"
      },
      "execution_count": null,
      "outputs": [
        {
          "output_type": "stream",
          "name": "stdout",
          "text": [
            "37\n",
            "after 1 year from 2024 is 37\n"
          ]
        }
      ]
    },
    {
      "cell_type": "markdown",
      "source": [
        "# **Write a code to remove dups from the list without using any builtin function?**"
      ],
      "metadata": {
        "id": "lUNEvSBjoBQA"
      }
    },
    {
      "cell_type": "code",
      "source": [
        "input_list=[1, 2, 3, 2, 4, 1, 5, 6, 3]\n",
        "#def remove_duplicates(input_list):\n",
        "#    unique_list = []\n",
        "#    for item in input_list:\n",
        "#        if item not in unique_list:\n",
        "#            unique_list.append(item)\n",
        "#    return unique_list\n",
        "\n",
        "# Example usage\n",
        "#original_list = [1, 2, 3, 2, 4, 1, 5, 6, 3]\n",
        "#result = remove_duplicates(unique_list)\n",
        "unique_list=remove_duplicates(input_list)\n",
        "print(\"List after removing duplicates:\", unique_list)"
      ],
      "metadata": {
        "id": "MC7Kd568e2Z1",
        "colab": {
          "base_uri": "https://localhost:8080/"
        },
        "outputId": "77fe6bde-5992-4a65-a5ea-4f629e37adbc"
      },
      "execution_count": 7,
      "outputs": [
        {
          "output_type": "stream",
          "name": "stdout",
          "text": [
            "List after removing duplicates: [1, 2, 3, 4, 5, 6]\n"
          ]
        }
      ]
    },
    {
      "cell_type": "code",
      "source": [
        "def remove_dups(my_test1):\n",
        "    unique_lst = []\n",
        "    for item in my_test1:\n",
        "        if item not in unique_lst:\n",
        "            unique_lst.append(item)\n",
        "    return unique_lst\n",
        "\n",
        "#my_list = [1, 2, 2, 3, 4, 4, 5]\n",
        "unique_lst11 = remove_dups(my_test1)\n",
        "print(unique_lst11)  # Output: [1, 2, 3, 4, 5]"
      ],
      "metadata": {
        "id": "fNyYspZynniT",
        "colab": {
          "base_uri": "https://localhost:8080/"
        },
        "outputId": "1b1873f1-d37a-4b14-868d-293bb36969a6"
      },
      "execution_count": 18,
      "outputs": [
        {
          "output_type": "stream",
          "name": "stdout",
          "text": [
            "[4, 8, 1, 3, 13, 7, 17]\n"
          ]
        }
      ]
    },
    {
      "cell_type": "code",
      "source": [
        "my_test1=[4,8,1,4,3,13,7,3,17,1]"
      ],
      "metadata": {
        "id": "jD1uRKJi_6n6"
      },
      "execution_count": 13,
      "outputs": []
    },
    {
      "cell_type": "code",
      "source": [
        "unique_lst1 = remove_dups(my_test1)"
      ],
      "metadata": {
        "id": "ZA8WpooGBUCG"
      },
      "execution_count": 14,
      "outputs": []
    },
    {
      "cell_type": "code",
      "source": [
        "print(my_test1)"
      ],
      "metadata": {
        "colab": {
          "base_uri": "https://localhost:8080/"
        },
        "id": "1RU99qumBaeH",
        "outputId": "7c558f12-c537-4c31-dc4a-17e525acc242"
      },
      "execution_count": 15,
      "outputs": [
        {
          "output_type": "stream",
          "name": "stdout",
          "text": [
            "[4, 8, 1, 4, 3, 13, 7, 3, 17, 1]\n"
          ]
        }
      ]
    },
    {
      "cell_type": "markdown",
      "source": [
        "# Example code to remove dups from the given list without uisng built in function"
      ],
      "metadata": {
        "id": "JNHPOmUtGYm4"
      }
    },
    {
      "cell_type": "code",
      "source": [
        "def rm_dups(input_data):\n",
        "    uniq_lst = []\n",
        "    for item in input_data:\n",
        "        if item not in uniq_lst:\n",
        "            uniq_lst.append(item)\n",
        "    return uniq_lst\n",
        ""
      ],
      "metadata": {
        "id": "_AFXK-RhBdAk"
      },
      "execution_count": 20,
      "outputs": []
    },
    {
      "cell_type": "code",
      "source": [
        "input_data=[3,7,3,4,7,2,1,7,1,4]\n",
        "final_res=rm_dups(input_data)\n",
        "print(final_res)"
      ],
      "metadata": {
        "colab": {
          "base_uri": "https://localhost:8080/"
        },
        "id": "IsifmTR9Fdsj",
        "outputId": "81d5e863-4687-41cf-d8a7-d19280bbe611"
      },
      "execution_count": 21,
      "outputs": [
        {
          "output_type": "stream",
          "name": "stdout",
          "text": [
            "[3, 7, 4, 2, 1]\n"
          ]
        }
      ]
    },
    {
      "cell_type": "markdown",
      "source": [
        "# second example"
      ],
      "metadata": {
        "id": "iv8tZrabGC8z"
      }
    },
    {
      "cell_type": "code",
      "source": [
        "input_data=[3,7,3,4,7,2,1,7,1,4,17,6,8,17,13,15,17,19,13,17,18,3,5,5,6,6,8,9,18,181,18,18,18,\n",
        "     3,7,3,4,7,2,1,7,1,4,17,6,8,17,13,15,17,19,13,17,18,3,5,5,6,6,8,9,18,181,18,18,1,\n",
        "            3,7,3,4,7,2,1,7,1,4,17,6,8,17,13,15,17,19,13,17,18,3,5,5,6,6,8,9,18,181,18,18,1,\n",
        "            3,7,3,4,7,2,1,7,1,4,17,6,8,17,13,15,17,19,13,17,18,3,5,5,6,6,8,9,18,181,18,18,1,\n",
        "            3,7,3,4,7,2,1,7,1,4,17,6,8,17,13,15,17,19,13,17,18,3,5,5,6,6,8,9,18,181,18,18,1,\n",
        "            3,7,3,4,7,2,1,7,1,4,17,6,8,17,13,15,17,19,13,17,18,3,5,5,6,6,8,9,18,181,18,18,1,\n",
        "            3,7,3,4,7,2,1,7,1,4,17,6,8,17,13,15,17,19,13,17,18,3,5,5,6,6,8,9,18,181,18,18,1,\n",
        "            3,7,3,4,7,2,1,7,1,4,17,6,8,17,13,15,17,19,13,17,18,3,5,5,6,6,8,9,18,181,18,18,1,\n",
        "            3,7,3,4,7,2,1,7,1,4,17,6,8,17,13,15,17,19,13,17,18,3,5,5,6,6,8,9,18,181,18,18,1,\n",
        "            3,7,3,4,7,2,1,7,1,4,17,6,8,17,13,15,17,19,13,17,18,3,5,5,6,6,8,9,18,181,18,18,1]\n",
        "final_res=rm_dups(input_data)\n",
        "print(final_res)"
      ],
      "metadata": {
        "colab": {
          "base_uri": "https://localhost:8080/"
        },
        "id": "3xzyvLccF4b_",
        "outputId": "317e8b87-6736-4c3b-864f-b53150d3f9b8"
      },
      "execution_count": 26,
      "outputs": [
        {
          "output_type": "stream",
          "name": "stdout",
          "text": [
            "[3, 7, 4, 2, 1, 17, 6, 8, 13, 15, 19, 18, 5, 9, 181]\n"
          ]
        }
      ]
    },
    {
      "cell_type": "code",
      "source": [
        "from os import remove\n",
        "\n",
        "\n",
        "uni_lst=remove_dups(input_data1)\n",
        "print(uni_lst)"
      ],
      "metadata": {
        "colab": {
          "base_uri": "https://localhost:8080/",
          "height": 193
        },
        "id": "g0Re4_yzGN2k",
        "outputId": "af6893ac-d053-4522-dede-3346f29bcc59"
      },
      "execution_count": 29,
      "outputs": [
        {
          "output_type": "error",
          "ename": "TypeError",
          "evalue": "remove: path should be string, bytes or os.PathLike, not list",
          "traceback": [
            "\u001b[0;31m---------------------------------------------------------------------------\u001b[0m",
            "\u001b[0;31mTypeError\u001b[0m                                 Traceback (most recent call last)",
            "\u001b[0;32m<ipython-input-29-127f7d46dc76>\u001b[0m in \u001b[0;36m<cell line: 13>\u001b[0;34m()\u001b[0m\n\u001b[1;32m     11\u001b[0m             \u001b[0;36m3\u001b[0m\u001b[0;34m,\u001b[0m\u001b[0;36m7\u001b[0m\u001b[0;34m,\u001b[0m\u001b[0;36m3\u001b[0m\u001b[0;34m,\u001b[0m\u001b[0;36m4\u001b[0m\u001b[0;34m,\u001b[0m\u001b[0;36m7\u001b[0m\u001b[0;34m,\u001b[0m\u001b[0;36m2\u001b[0m\u001b[0;34m,\u001b[0m\u001b[0;36m1\u001b[0m\u001b[0;34m,\u001b[0m\u001b[0;36m7\u001b[0m\u001b[0;34m,\u001b[0m\u001b[0;36m1\u001b[0m\u001b[0;34m,\u001b[0m\u001b[0;36m4\u001b[0m\u001b[0;34m,\u001b[0m\u001b[0;36m17\u001b[0m\u001b[0;34m,\u001b[0m\u001b[0;36m6\u001b[0m\u001b[0;34m,\u001b[0m\u001b[0;36m8\u001b[0m\u001b[0;34m,\u001b[0m\u001b[0;36m17\u001b[0m\u001b[0;34m,\u001b[0m\u001b[0;36m13\u001b[0m\u001b[0;34m,\u001b[0m\u001b[0;36m15\u001b[0m\u001b[0;34m,\u001b[0m\u001b[0;36m17\u001b[0m\u001b[0;34m,\u001b[0m\u001b[0;36m19\u001b[0m\u001b[0;34m,\u001b[0m\u001b[0;36m13\u001b[0m\u001b[0;34m,\u001b[0m\u001b[0;36m17\u001b[0m\u001b[0;34m,\u001b[0m\u001b[0;36m18\u001b[0m\u001b[0;34m,\u001b[0m\u001b[0;36m3\u001b[0m\u001b[0;34m,\u001b[0m\u001b[0;36m5\u001b[0m\u001b[0;34m,\u001b[0m\u001b[0;36m5\u001b[0m\u001b[0;34m,\u001b[0m\u001b[0;36m6\u001b[0m\u001b[0;34m,\u001b[0m\u001b[0;36m6\u001b[0m\u001b[0;34m,\u001b[0m\u001b[0;36m8\u001b[0m\u001b[0;34m,\u001b[0m\u001b[0;36m9\u001b[0m\u001b[0;34m,\u001b[0m\u001b[0;36m18\u001b[0m\u001b[0;34m,\u001b[0m\u001b[0;36m181\u001b[0m\u001b[0;34m,\u001b[0m\u001b[0;36m18\u001b[0m\u001b[0;34m,\u001b[0m\u001b[0;36m18\u001b[0m\u001b[0;34m,\u001b[0m\u001b[0;36m1\u001b[0m\u001b[0;34m,\u001b[0m\u001b[0;34m\u001b[0m\u001b[0;34m\u001b[0m\u001b[0m\n\u001b[1;32m     12\u001b[0m             3,7,3,4,7,2,1,7,1,4,17,6,8,17,13,15,17,19,13,17,18,3,5,5,6,6,8,9,18,181,18,18,1]\n\u001b[0;32m---> 13\u001b[0;31m \u001b[0muni_lst\u001b[0m\u001b[0;34m=\u001b[0m\u001b[0mremove\u001b[0m\u001b[0;34m(\u001b[0m\u001b[0minput_data1\u001b[0m\u001b[0;34m)\u001b[0m\u001b[0;34m\u001b[0m\u001b[0;34m\u001b[0m\u001b[0m\n\u001b[0m\u001b[1;32m     14\u001b[0m \u001b[0mprint\u001b[0m\u001b[0;34m(\u001b[0m\u001b[0muni_lst\u001b[0m\u001b[0;34m)\u001b[0m\u001b[0;34m\u001b[0m\u001b[0;34m\u001b[0m\u001b[0m\n",
            "\u001b[0;31mTypeError\u001b[0m: remove: path should be string, bytes or os.PathLike, not list"
          ]
        }
      ]
    },
    {
      "cell_type": "code",
      "source": [
        "from os import remove"
      ],
      "metadata": {
        "id": "LUUjgIC_I2jg"
      },
      "execution_count": 31,
      "outputs": []
    },
    {
      "cell_type": "code",
      "source": [
        "input_data1=[3,7,3,4,7,2,1,7,1,4,17,6,8,17,13,15,17,19,13,17,18,3,5,5,6,6,8,9,18,181,18,18,18,\n",
        "     3,7,3,4,7,2,1,7,1,4,17,6,8,17,13,15,17,19,13,17,18,3,5,5,6,6,8,9,18,181,18,18,1,\n",
        "            3,7,3,4,7,2,1,7,1,4,17,6,8,17,13,15,17,19,13,17,18,3,5,5,6,6,8,9,18,181,18,18,1,\n",
        "            3,7,3,4,7,2,1,7,1,4,17,6,8,17,13,15,17,19,13,17,18,3,5,5,6,6,8,9,18,181,18,18,1,\n",
        "            3,7,3,4,7,2,1,7,1,4,17,6,8,17,13,15,17,19,13,17,18,3,5,5,6,6,8,9,18,181,18,18,1,\n",
        "            3,7,3,4,7,2,1,7,1,4,17,6,8,17,13,15,17,19,13,17,18,3,5,5,6,6,8,9,18,181,18,18,1,\n",
        "            3,7,3,4,7,2,1,7,1,4,17,6,8,17,13,15,17,19,13,17,18,3,5,5,6,6,8,9,18,181,18,18,1,\n",
        "            3,7,3,4,7,2,1,7,1,4,17,6,8,17,13,15,17,19,13,17,18,3,5,5,6,6,8,9,18,181,18,18,1,\n",
        "            3,7,3,4,7,2,1,7,1,4,17,6,8,17,13,15,17,19,13,17,18,3,5,5,6,6,8,9,18,181,18,18,1,\n",
        "            3,7,3,4,7,2,1,7,1,4,17,6,8,17,13,15,17,19,13,17,18,3,5,5,6,6,8,9,18,181,18,18,1]\n",
        ""
      ],
      "metadata": {
        "id": "adiPkR9XJD5T"
      },
      "execution_count": 32,
      "outputs": []
    },
    {
      "cell_type": "code",
      "source": [
        "import numpy as np\n"
      ],
      "metadata": {
        "id": "sSEpFawMJEzL"
      },
      "execution_count": 33,
      "outputs": []
    },
    {
      "cell_type": "code",
      "source": [
        "uniq1=list(np.unique(input_data1))\n",
        "print(uniq1)\n",
        "\n"
      ],
      "metadata": {
        "colab": {
          "base_uri": "https://localhost:8080/"
        },
        "id": "xqwd7EjrKfDe",
        "outputId": "7d4f9652-3c77-4146-b883-31630345e509"
      },
      "execution_count": 35,
      "outputs": [
        {
          "output_type": "stream",
          "name": "stdout",
          "text": [
            "[1, 2, 3, 4, 5, 6, 7, 8, 9, 13, 15, 17, 18, 19, 181]\n"
          ]
        }
      ]
    },
    {
      "cell_type": "code",
      "source": [
        "set1=set(input_data1)\n",
        "print(set1)"
      ],
      "metadata": {
        "colab": {
          "base_uri": "https://localhost:8080/"
        },
        "id": "ILJh7Dr-KqXU",
        "outputId": "7a0cfee7-e88c-41e1-9103-327620c0efdf"
      },
      "execution_count": 36,
      "outputs": [
        {
          "output_type": "stream",
          "name": "stdout",
          "text": [
            "{1, 2, 3, 4, 5, 6, 7, 8, 9, 13, 15, 17, 18, 19, 181}\n"
          ]
        }
      ]
    },
    {
      "cell_type": "code",
      "source": [
        "list1=list(set1)"
      ],
      "metadata": {
        "id": "RoeywrwdLMaE"
      },
      "execution_count": 38,
      "outputs": []
    },
    {
      "cell_type": "code",
      "source": [
        "print(list1)"
      ],
      "metadata": {
        "colab": {
          "base_uri": "https://localhost:8080/"
        },
        "id": "d__W4pSULRPK",
        "outputId": "8363ee4d-811c-45c1-e84a-6da8c71a83f7"
      },
      "execution_count": 39,
      "outputs": [
        {
          "output_type": "stream",
          "name": "stdout",
          "text": [
            "[1, 2, 3, 4, 5, 6, 7, 8, 9, 13, 15, 17, 18, 19, 181]\n"
          ]
        }
      ]
    },
    {
      "cell_type": "code",
      "source": [],
      "metadata": {
        "id": "KS3-iCXcLUxw"
      },
      "execution_count": null,
      "outputs": []
    }
  ]
}