{
  "nbformat": 4,
  "nbformat_minor": 0,
  "metadata": {
    "colab": {
      "provenance": [],
      "authorship_tag": "ABX9TyOyM406x4cbIVK6HsLLDwZc",
      "include_colab_link": true
    },
    "kernelspec": {
      "name": "python3",
      "display_name": "Python 3"
    },
    "language_info": {
      "name": "python"
    }
  },
  "cells": [
    {
      "cell_type": "markdown",
      "metadata": {
        "id": "view-in-github",
        "colab_type": "text"
      },
      "source": [
        "<a href=\"https://colab.research.google.com/github/kachina1/PythonGenAI/blob/main/Python.ipynb\" target=\"_parent\"><img src=\"https://colab.research.google.com/assets/colab-badge.svg\" alt=\"Open In Colab\"/></a>"
      ]
    },
    {
      "cell_type": "markdown",
      "source": [
        "**Introduction to Python Programming**\n",
        "\n",
        "\n",
        "\n"
      ],
      "metadata": {
        "id": "toHtn9xIPoIk"
      }
    },
    {
      "cell_type": "code",
      "source": [
        "#print function\n",
        "print(\"Hello Bhaskar\", \"Welcome to Python world\")"
      ],
      "metadata": {
        "colab": {
          "base_uri": "https://localhost:8080/"
        },
        "id": "qmC3og8LP7xG",
        "outputId": "08496a47-2055-473c-e50d-9519e24f1d3e"
      },
      "execution_count": 1,
      "outputs": [
        {
          "output_type": "stream",
          "name": "stdout",
          "text": [
            "Hello Bhaskar Welcome to Python world\n"
          ]
        }
      ]
    },
    {
      "cell_type": "code",
      "source": [
        "Name = \"Bhaskar\"\n",
        "Organization = \"IBM\"\n",
        "print(Name,\"is working in \" + Organization)"
      ],
      "metadata": {
        "colab": {
          "base_uri": "https://localhost:8080/"
        },
        "id": "99Xp9TsWQI-Y",
        "outputId": "bfc11bb2-6520-4087-d033-877e50eb17b9"
      },
      "execution_count": 5,
      "outputs": [
        {
          "output_type": "stream",
          "name": "stdout",
          "text": [
            "Bhaskar is working in IBM\n"
          ]
        }
      ]
    },
    {
      "cell_type": "markdown",
      "source": [
        "**Variables and Data types**"
      ],
      "metadata": {
        "id": "eb-TMUnyQ-Sq"
      }
    },
    {
      "cell_type": "code",
      "source": [
        "var1=13\n",
        "var2=\"Bhaskar\"\n",
        "var3=18.5\n",
        "print(type(var1),type(var2),type(var3))\n"
      ],
      "metadata": {
        "colab": {
          "base_uri": "https://localhost:8080/"
        },
        "id": "HNALTTmnQuSK",
        "outputId": "1dc144c9-3d25-4470-fc52-1a2fd384beea"
      },
      "execution_count": 7,
      "outputs": [
        {
          "output_type": "stream",
          "name": "stdout",
          "text": [
            "<class 'int'> <class 'str'> <class 'float'>\n"
          ]
        }
      ]
    },
    {
      "cell_type": "markdown",
      "source": [
        "**Input() function usage**"
      ],
      "metadata": {
        "id": "sLnI5h4cR6ao"
      }
    },
    {
      "cell_type": "code",
      "source": [
        "name=input(\"Enter your Name = \")\n"
      ],
      "metadata": {
        "colab": {
          "base_uri": "https://localhost:8080/"
        },
        "id": "mWZN2wUQR9zg",
        "outputId": "c07bd9fc-71e8-417b-bf4f-17a170d4f4e2"
      },
      "execution_count": 8,
      "outputs": [
        {
          "name": "stdout",
          "output_type": "stream",
          "text": [
            "Enter your Name = Bhaskar Kachina\n"
          ]
        }
      ]
    },
    {
      "cell_type": "code",
      "source": [
        "# simple addition calculator\n",
        "num1 = float(input(\"Enter the first number: \"))\n",
        "num2 = float(input(\"Enter the second number: \"))\n",
        "sum = num1 + num2\n",
        "sub = num1 - num2\n",
        "mul = num1 * num2\n",
        "div = num1 / num2\n",
        "print(\"The sum of the two numbers is:\", sum)\n",
        "print(\"The sub of the two numbers is:\", sub)\n",
        "print(\"The mul of the two numbers is:\", mul)\n",
        "print(\"The div of the two numbers is:\", div)"
      ],
      "metadata": {
        "colab": {
          "base_uri": "https://localhost:8080/"
        },
        "id": "HiQjESM2SN_1",
        "outputId": "88386ba7-7333-4c26-f86a-e002d6aba8a5"
      },
      "execution_count": 11,
      "outputs": [
        {
          "output_type": "stream",
          "name": "stdout",
          "text": [
            "Enter the first number: 13\n",
            "Enter the second number: 3\n",
            "The sum of the two numbers is: 16.0\n",
            "The sub of the two numbers is: 10.0\n",
            "The mul of the two numbers is: 39.0\n",
            "The div of the two numbers is: 4.333333333333333\n"
          ]
        }
      ]
    },
    {
      "cell_type": "markdown",
      "source": [
        "**Comparison and Logical Operators in Python**\n"
      ],
      "metadata": {
        "id": "Zqd8A418TR2u"
      }
    },
    {
      "cell_type": "code",
      "source": [
        "a = 13\n",
        "b = 6\n",
        "\n",
        "print(a > b)   # True\n",
        "print(a == b)  # False\n",
        "print(a != b)  # True"
      ],
      "metadata": {
        "colab": {
          "base_uri": "https://localhost:8080/"
        },
        "id": "7GAHyioCTVEp",
        "outputId": "bd1ea4e8-69d0-4385-8a1f-c945fd7c0097"
      },
      "execution_count": 12,
      "outputs": [
        {
          "output_type": "stream",
          "name": "stdout",
          "text": [
            "True\n",
            "False\n",
            "True\n"
          ]
        }
      ]
    },
    {
      "cell_type": "markdown",
      "source": [
        "Comparison and Logical **Operators**"
      ],
      "metadata": {
        "id": "DQ0kf67HT0__"
      }
    },
    {
      "cell_type": "code",
      "source": [
        "age = float(input(\"Enter the age: \"))\n",
        "income =float(input(\"Enter the salary: \"))\n",
        "\n",
        "if age >= 18 and income >= 25000:\n",
        "    print(\"Eligible for the loan\")\n",
        "else:\n",
        "    print(\"Not eligible for the loan\")"
      ],
      "metadata": {
        "colab": {
          "base_uri": "https://localhost:8080/"
        },
        "id": "Vm3HY0yzT67s",
        "outputId": "3033beb5-405e-4f3d-e120-6044b3eb1e97"
      },
      "execution_count": 13,
      "outputs": [
        {
          "output_type": "stream",
          "name": "stdout",
          "text": [
            "Enter the age: 16\n",
            "Enter the salary: 30000\n",
            "Not eligible for the loan\n"
          ]
        }
      ]
    },
    {
      "cell_type": "code",
      "source": [
        "std_marks=int(input(\"Enter the marks: \"))\n",
        "if std_marks >= 35:\n",
        "  print(\"student is passed\")\n",
        "else:\n",
        "  print(\"student is failed\")"
      ],
      "metadata": {
        "colab": {
          "base_uri": "https://localhost:8080/"
        },
        "id": "YC56xvMmUWgL",
        "outputId": "ebcd004b-1408-4e54-88e9-92f8339cc8a1"
      },
      "execution_count": 17,
      "outputs": [
        {
          "output_type": "stream",
          "name": "stdout",
          "text": [
            "Enter the marks: 35\n",
            "student is passed\n"
          ]
        }
      ]
    },
    {
      "cell_type": "markdown",
      "source": [
        "**Loops in Python**"
      ],
      "metadata": {
        "id": "dqhAbwsdVIc7"
      }
    },
    {
      "cell_type": "code",
      "source": [
        "i = 1\n",
        "while i <= 4:\n",
        "    print(\"iteration\", i)\n",
        "    i += 1"
      ],
      "metadata": {
        "colab": {
          "base_uri": "https://localhost:8080/"
        },
        "id": "07t9T3PjU3M8",
        "outputId": "b6deb072-39cb-4916-b20d-1a5af829de5b"
      },
      "execution_count": 18,
      "outputs": [
        {
          "output_type": "stream",
          "name": "stdout",
          "text": [
            "iteration 1\n",
            "iteration 2\n",
            "iteration 3\n",
            "iteration 4\n"
          ]
        }
      ]
    },
    {
      "cell_type": "code",
      "source": [],
      "metadata": {
        "id": "5jHWV3mYVUVR"
      },
      "execution_count": null,
      "outputs": []
    }
  ]
}